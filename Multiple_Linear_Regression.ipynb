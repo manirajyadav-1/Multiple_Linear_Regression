{
  "nbformat": 4,
  "nbformat_minor": 0,
  "metadata": {
    "colab": {
      "provenance": []
    },
    "kernelspec": {
      "name": "python3",
      "display_name": "Python 3"
    },
    "language_info": {
      "name": "python"
    }
  },
  "cells": [
    {
      "cell_type": "markdown",
      "source": [
        "**Use 50-startup dataset to predict the profit for a startup using single and multiple regression ([‘R&D Spend’, ’Administration’, ’Marketing Spend’, ’State’, ‘Profit’]). Provide accuracy, and R 2 value for the same.**\n"
      ],
      "metadata": {
        "id": "jIyNQXn4nH-5"
      }
    },
    {
      "cell_type": "code",
      "source": [
        "import numpy as np\n",
        "import pandas as pd\n",
        "from sklearn.preprocessing import MinMaxScaler, OneHotEncoder\n",
        "from sklearn.compose import ColumnTransformer\n",
        "from sklearn.metrics import mean_squared_error, r2_score\n",
        "from sklearn.model_selection import train_test_split\n",
        "from sklearn.linear_model import LinearRegression\n",
        "import matplotlib.pyplot as plt\n",
        "import seaborn as sns\n",
        "\n",
        "df = pd.read_csv('/content/drive/MyDrive/Colab Notebooks/Data/50_Startups.csv')\n",
        "print(df.head())\n",
        "datasetx = df.drop(columns=['State'], axis=1)\n",
        "datasetx.head(10)\n",
        "\n",
        "# Calculating the Pearson correlation coefficient\n",
        "correlation_matrix = datasetx.corr()\n",
        "\n",
        "# Displaying the correlation matrix\n",
        "print(\"Correlation Matrix:\")\n",
        "print(correlation_matrix)\n",
        "\n",
        "# Plotting the correlation heatmap for better visualization\n",
        "sns.heatmap(correlation_matrix, annot=True, cmap='coolwarm')\n",
        "plt.title('Correlation Matrix Heatmap')\n",
        "plt.show()\n",
        "\n",
        "# Identify the variable with the highest correlation with 'Profit'\n",
        "profit_correlation = correlation_matrix['Profit'].drop('Profit') # Exclude the self-correlation\n",
        "highest_corr_feature = profit_correlation.idxmax()\n",
        "highest_corr_value = profit_correlation.max()\n",
        "print(f\"The variable with the highest correlation with 'Profit' is '{highest_corr_feature}' with a correlation coefficient of {highest_corr_value}.\")\n",
        "\n",
        "# Now we perform Single Linear Regression using this variable\n",
        "x_single = df[highest_corr_feature].values\n",
        "y_single = df['Profit'].values\n",
        "print(\"X_SINGLE\",x_single)\n",
        "print(\"Y_SINGLE\",y_single)\n",
        "m = len(x_single)\n",
        "def analytical_solution(x_single, y_single):\n",
        "    n = len(x_single)\n",
        "    x_mean = np.mean(x_single)\n",
        "    y_mean = np.mean(y_single)\n",
        "    # Calculate the coefficients\n",
        "    b1 = np.sum((x_single - x_mean) * (y_single - y_mean)) / np.sum((x_single - x_mean) ** 2)\n",
        "    b0 = y_mean - b1 * x_mean\n",
        "    return b0, b1\n",
        "\n",
        "# Predict function\n",
        "def predict(x_single, b0, b1):\n",
        "    return b0 + b1 * x_single\n",
        "\n",
        "# Sum of Squared Errors (SSE)\n",
        "def calculate_sse(y_true, y_pred):\n",
        "    return np.sum((y_true - y_pred) ** 2)\n",
        "\n",
        "# Coefficient of Determination (R²)\n",
        "def calculate_r2(y_true, y_pred):\n",
        "    ss_total = np.sum((y_true - np.mean(y_true)) ** 2)\n",
        "    ss_residual = np.sum((y_true - y_pred) ** 2)\n",
        "    return 1 - (ss_residual / ss_total)\n",
        "\n",
        "# Compute regression coefficients using analytical solution\n",
        "b0_analytical, b1_analytical = analytical_solution(x_single, y_single)\n",
        "y_pred_analytical = predict(x_single, b0_analytical, b1_analytical)\n",
        "\n",
        "# Compute SSE and R² for analytical solution\n",
        "sse_analytical = calculate_sse(y_single, y_pred_analytical)\n",
        "r2_analytical = calculate_r2(y_single, y_pred_analytical)\n",
        "print(f\"b0: {b0_analytical}, b1: {b1_analytical}\")\n",
        "print(f\"Simple Linear Regression SSE: {sse_analytical}\")\n",
        "print(f\"Simple Linear Regression RMSE: {np.sqrt(sse_analytical/m)}\")\n",
        "print(f\"Simple Linear Regression R-squared: {r2_analytical}\")\n",
        "\n",
        "\n",
        "# One-Hot Encoding the 'State' column\n",
        "state_encoded = pd.get_dummies(df['State'], prefix='State')\n",
        "dataset = pd.concat([df.drop('State', axis=1), state_encoded], axis=1)\n",
        "print(\"Dataset after encoding the 'state' column:\")\n",
        "print(dataset.head())\n",
        "\n",
        "\n",
        "# Splitting the features and target variable\n",
        "X = dataset.iloc[:, :-1].values\n",
        "y = dataset.iloc[:, -1].values\n",
        "\n",
        "\n",
        "# Log transforming the target variable to handle skewness\n",
        "# log1p is used to avoid log(0) issues\n",
        "y = np.log1p(y)\n",
        "\n",
        "# Splitting the dataset into the Training set and Test set\n",
        "X_train, X_test, y_train, y_test = train_test_split(X, y, test_size=0.2, random_state=0)\n",
        "\n",
        "# Normalizing the numerical data (only fit on training data)\n",
        "# Indices of numerical columns\n",
        "numerical_columns = [0, 1, 2]\n",
        "scaler = MinMaxScaler()\n",
        "X_train[:, numerical_columns] = scaler.fit_transform(X_train[:, numerical_columns])\n",
        "X_test[:, numerical_columns] = scaler.transform(X_test[:, numerical_columns])\n",
        "print(\"Training set after normalization:\")\n",
        "print(X_train[:5])\n",
        "print(\"Test set after normalization:\")\n",
        "print(X_test[:5])\n",
        "\n",
        "# Training the Multiple Linear Regression model on the Training set\n",
        "regressor = LinearRegression()\n",
        "regressor.fit(X_train, y_train)\n",
        "\n",
        "# Predicting the Test set results with Multiple Linear Regression\n",
        "y_pred_mlr = regressor.predict(X_test)\n",
        "\n",
        "# Convert predictions back to the original scale\n",
        "y_pred_mlr = np.expm1(y_pred_mlr)\n",
        "\n",
        "# Convert test data back to the original scale\n",
        "y_test_mlr = np.expm1(y_test)\n",
        "\n",
        "# Calculating MSE, RMSE, and R-squared score for Multiple Linear Regression\n",
        "mse_mlr = mean_squared_error(y_test_mlr, y_pred_mlr)\n",
        "rmse_mlr = np.sqrt(mse_mlr)\n",
        "r2_mlr = r2_score(y_test_mlr, y_pred_mlr)\n",
        "print(f\"Multiple Linear Regression MSE: {mse_mlr}\")\n",
        "print(f\"Multiple Linear Regression RMSE: {rmse_mlr}\")\n",
        "print(f\"Multiple Linear Regression R-squared: {r2_mlr}\")\n",
        "# print(f\"Single Linear Regression R-squared (Accuracy): {r2_slr * 100:.2f}%\")\n",
        "print(f\"Multiple Linear Regression R-squared (Accuracy): {r2_mlr * 100:.2f}%\")\n"
      ],
      "metadata": {
        "colab": {
          "base_uri": "https://localhost:8080/",
          "height": 1000
        },
        "id": "VYXJ8achh8gy",
        "outputId": "bfc233af-3fd4-4c90-c464-d3252f61c432"
      },
      "execution_count": 7,
      "outputs": [
        {
          "output_type": "stream",
          "name": "stdout",
          "text": [
            "   R&D Spend  Administration  Marketing Spend       State     Profit\n",
            "0  165349.20       136897.80        471784.10    New York  192261.83\n",
            "1  162597.70       151377.59        443898.53  California  191792.06\n",
            "2  153441.51       101145.55        407934.54     Florida  191050.39\n",
            "3  144372.41       118671.85        383199.62    New York  182901.99\n",
            "4  142107.34        91391.77        366168.42     Florida  166187.94\n",
            "Correlation Matrix:\n",
            "                 R&D Spend  Administration  Marketing Spend    Profit\n",
            "R&D Spend         1.000000        0.241955         0.724248  0.972900\n",
            "Administration    0.241955        1.000000        -0.032154  0.200717\n",
            "Marketing Spend   0.724248       -0.032154         1.000000  0.747766\n",
            "Profit            0.972900        0.200717         0.747766  1.000000\n"
          ]
        },
        {
          "output_type": "display_data",
          "data": {
            "text/plain": [
              "<Figure size 640x480 with 2 Axes>"
            ],
            "image/png": "[encoded data removed]"
          },
          "metadata": {}
        },
        {
          "output_type": "stream",
          "name": "stdout",
          "text": [
            "The variable with the highest correlation with 'Profit' is 'R&D Spend' with a correlation coefficient of 0.9729004656594831.\n",
            "X_SINGLE [165349.2  162597.7  153441.51 144372.41 142107.34 131876.9  134615.46\n",
            " 130298.13 120542.52 123334.88 101913.08 100671.96  93863.75  91992.39\n",
            " 119943.24 114523.61  78013.11  94657.16  91749.16  86419.7   76253.86\n",
            "  78389.47  73994.56  67532.53  77044.01  64664.71  75328.87  72107.6\n",
            "  66051.52  65605.48  61994.48  61136.38  63408.86  55493.95  46426.07\n",
            "  46014.02  28663.76  44069.95  20229.59  38558.51  28754.33  27892.92\n",
            "  23640.93  15505.73  22177.74   1000.23   1315.46      0.      542.05\n",
            "      0.  ]\n",
            "Y_SINGLE [192261.83 191792.06 191050.39 182901.99 166187.94 156991.12 156122.51\n",
            " 155752.6  152211.77 149759.96 146121.95 144259.4  141585.52 134307.35\n",
            " 132602.65 129917.04 126992.93 125370.37 124266.9  122776.86 118474.03\n",
            " 111313.02 110352.25 108733.99 108552.04 107404.34 105733.54 105008.31\n",
            " 103282.38 101004.64  99937.59  97483.56  97427.84  96778.92  96712.8\n",
            "  96479.51  90708.19  89949.14  81229.06  81005.76  78239.91  77798.83\n",
            "  71498.49  69758.98  65200.33  64926.08  49490.75  42559.73  35673.41\n",
            "  14681.4 ]\n",
            "b0: 49032.89914125215, b1: 0.8542913709388087\n",
            "Simple Linear Regression SSE: 4256046566.3534527\n",
            "Simple Linear Regression RMSE: 9226.100548285232\n",
            "Simple Linear Regression R-squared: 0.9465353160804393\n",
            "Dataset after encoding the 'state' column:\n",
            "   R&D Spend  Administration  Marketing Spend     Profit  State_California  \\\n",
            "0  165349.20       136897.80        471784.10  192261.83             False   \n",
            "1  162597.70       151377.59        443898.53  191792.06              True   \n",
            "2  153441.51       101145.55        407934.54  191050.39             False   \n",
            "3  144372.41       118671.85        383199.62  182901.99             False   \n",
            "4  142107.34        91391.77        366168.42  166187.94             False   \n",
            "\n",
            "   State_Florida  State_New York  \n",
            "0          False            True  \n",
            "1          False           False  \n",
            "2           True           False  \n",
            "3          False            True  \n",
            "4           True           False  \n",
            "Training set after normalization:\n",
            "[[0.33561668275383244 0.48655173846108446 0.45494286475529805 96778.92\n",
            "  False True]\n",
            " [0.2782838985613477 0.3173014989646725 0.4356179871258909 96479.51 False\n",
            "  False]\n",
            " [0.45557444487182275 0.8725886606601323 0.28413435298052653 105733.54\n",
            "  False True]\n",
            " [0.28077589731308045 1.0 0.44680961058246776 96712.8 True False]\n",
            " [0.5548811847895242 0.5910364532615962 0.6251155348389232 124266.9 False\n",
            "  True]]\n",
            "Test set after normalization:\n",
            "[[0.39946682536111455 1.2344841377913025 0.2504285328818839 103282.38\n",
            "  False True]\n",
            " [0.6088445544338891 0.38067073655507455 0.5293619475518568 144259.4 True\n",
            "  False]\n",
            " [0.6163506082883982 0.5573774574342938 0.48573266882033544 146121.95\n",
            "  False True]\n",
            " [0.16869098852610112 0.3141376277854556 0.34861435559189047 77798.83\n",
            "  False True]\n",
            " [0.927984592607645 0.4685841979543801 0.864663603542383 191050.39 False\n",
            "  True]]\n",
            "Multiple Linear Regression MSE: 5.4043243170285635e-08\n",
            "Multiple Linear Regression RMSE: 0.00023247202664038018\n",
            "Multiple Linear Regression R-squared: 0.99999974276038\n",
            "Multiple Linear Regression R-squared (Accuracy): 100.00%\n"
          ]
        }
      ]
    },
    {
      "cell_type": "markdown",
      "source": [
        "**Consider only the below columns and prepare a prediction model for predicting Price. Corolla[c(\"Price\",\"Age_08_04\",\"KM\",\"HP\",\"cc\",\"Doors\",\"Gears\",\"Quarterly_Tax\",\"Weight\")] Provide accuracy, and R2 value for the same.**"
      ],
      "metadata": {
        "id": "mnySkzIuohSC"
      }
    },
    {
      "cell_type": "code",
      "source": [
        "import pandas as pd\n",
        "from sklearn.model_selection import train_test_split\n",
        "from sklearn.linear_model import LinearRegression\n",
        "from sklearn.metrics import mean_squared_error, r2_score, mean_absolute_error\n",
        "from sklearn.preprocessing import StandardScaler\n",
        "df = pd.read_csv('/content/drive/MyDrive/Colab Notebooks/Data/ToyotaCorolla.csv')\n",
        "\n",
        "# Handle missing values\n",
        "df = df.dropna()\n",
        "features = [\"Age_08_04\", \"KM\", \"HP\", \"cc\", \"Doors\", \"Gears\", \"Quarterly_Tax\", \"Weight\"]\n",
        "target = \"Price\"\n",
        "X = df[features]\n",
        "y = df[target]\n",
        "\n",
        "# Feature Scaling\n",
        "scaler = StandardScaler()\n",
        "X_scaled = scaler.fit_transform(X)\n",
        "X_train, X_test, y_train, y_test = train_test_split(X_scaled, y, test_size=0.2, random_state=42)\n",
        "model = LinearRegression()\n",
        "model.fit(X_train, y_train)\n",
        "y_pred = model.predict(X_test)\n",
        "mse = mean_squared_error(y_test, y_pred)\n",
        "r2 = r2_score(y_test, y_pred)\n",
        "mae = mean_absolute_error(y_test, y_pred)\n",
        "print(f\"Mean Squared Error (MSE): {mse:.2f}\")\n",
        "print(f\"R-squared Value (R²): {r2:.2f}\")\n",
        "print(f\"Mean Absolute Error (MAE): {mae:.2f}\")\n"
      ],
      "metadata": {
        "colab": {
          "base_uri": "https://localhost:8080/"
        },
        "id": "8M8KA0unmPNO",
        "outputId": "e60e5997-799f-4edc-9387-6949d0589fd0"
      },
      "execution_count": 6,
      "outputs": [
        {
          "output_type": "stream",
          "name": "stdout",
          "text": [
            "Mean Squared Error (MSE): 1950244.99\n",
            "R-squared Value (R²): 0.85\n",
            "Mean Absolute Error (MAE): 995.59\n"
          ]
        }
      ]
    },
    {
      "cell_type": "code",
      "source": [],
      "metadata": {
        "id": "tLMbiAAkorGJ"
      },
      "execution_count": null,
      "outputs": []
    }
  ]
}